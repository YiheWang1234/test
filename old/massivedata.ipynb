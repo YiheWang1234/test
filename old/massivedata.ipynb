{
 "cells": [
  {
   "cell_type": "markdown",
   "metadata": {},
   "source": [
    "# Massive list of standardized time series examples\n",
    "\n",
    "Many free online time series data sets are avaible for benchmarking time series models. Here is some useful information and examples\n",
    "\n",
    "## Some free time series data sets for benchmarking\n",
    "\n",
    "### [Rob Hyndman’s Time Series Data Library](https://datamarket.com/data/list/?q=provider:tsdl)\n",
    "\n",
    "Rob Hyndman’s Time Series Data Library contains over **800 time series** organized by subject as well as pointers to other sources of time series available on the Internet.  The data is freely available for anyone to use and the data can be used by any researcher without further permission by [IFF](https://forecasters.org/). \n",
    "\n",
    "### [UCI Machine Learning Repository - Time Series](https://archive.ics.uci.edu/ml/datasets.html?format=&task=&att=&area=&numAtt=&numIns=&type=ts&sort=nameUp&view=table)\n",
    "\n",
    "UCI currently maintain 437 data sets (**82 time series data sets**) as a service to the machine learning community. It is a collection of databases, domain theories, and data generators that are used by the machine learning community for the empirical analysis of machine learning algorithms. The archive was created as an ftp archive in 1987 by David Aha and fellow graduate students at UC Irvine.\n",
    "\n",
    "### [Economic Research at the St. Louis Fed](https://fred.stlouisfed.org/tags/series)\n",
    "\n",
    "Economic Research at the St. Louis Fed allows researchers to download, graph, and track **508,000 US and international time series from 86 sources.**\n",
    "\n",
    "### [The CNTS Data Archive](https://www.cntsdata.com/the-data)\n",
    "\n",
    "The Cross-National Time-Series Data Archive is a data set comprised of more than 200 years of annual data from 1815 onward for over 200 countries.\n",
    "\n",
    "### [Data World](https://data.world/datasets/time-series)\n",
    "\n",
    "There are 32 time series datasets available on data.world\n",
    "\n",
    "### [Lynx data](https://www.encyclopediaofmath.org/index.php/Canadian_lynx_data)\n",
    "\n",
    "## M4 competition\n",
    "\n",
    "### Intro\n",
    "\n",
    "The [M4-Competition](https://www.m4.unic.ac.cy/about/) is the continuation of three previous ones organized by Spyros Makridakis (known as the Makridakis or M-Competitions) whose purpose is to identify the most accurate forecasting method(s) for different types of predictions. The M4 consists of **100,000 time series** of Yearly, Quarterly, Monthly and Other (Weekly, Daily and Hourly) data. The minimum number of observations is **13 for yearly, 16 for quarterly, 42 for monthly, 80 for weekly, 93 for daily and 700 for hourly series**. The 100,000 time series of the dataset come mainly from the Economic, Finance, Demographics and Industry areas, while also including data from Tourism, Trade, Labor and Wage, Real Estate, Transportation, Natural Resources and the Environment. \n",
    "\n",
    "### Data\n",
    "\n",
    "Below is the number of time series based on their frequency and type:\n",
    "\n",
    "| Frequency | Demographic | Finance | Industry | Macro | Micro | Other | Total |\n",
    "|-----------|-------------|---------|----------|-------|-------|-------|-------|\n",
    "|  Yearly   |1,088        |6,519    |3,716     |3,903  |6,538  |1,236  |23,000 |\n",
    "|Quarterly\t|1,858\t      |5,305    |4,637     |5,315  |6,020  |865    |24,000 |\n",
    "|Monthly\t|5,728\t      |10,987\t|10,017\t   |10,016 |10,975 |277\t   |48,000 |\n",
    "|Weekly\t    |24\t          |164\t    |6\t       |41\t   |112\t   |12\t   |359    |\n",
    "|Daily\t    |10\t          |1,559\t|422\t   |127\t   |1,476  |633\t   |4,227  |\n",
    "|Hourly\t    |0\t          |0\t    |0\t       |0\t   |0\t   |414\t   |414    |\n",
    "|Total\t    |8,708\t      |24,534\t|18,798\t   |19,402 |25,121 |3,437  |100,000|\n",
    "\n",
    "The data set is available [here](https://www.m4.unic.ac.cy/wp-content/uploads/2017/12/M4DataSet.zip) \n",
    "\n",
    "### Performance measure\n",
    "\n",
    "* Mean Absolute Scaled Error\n",
    "\n",
    "$$\\text{MASE} = \\frac{1}{h} \\frac{\\sum_{t=1}^h |Y_t - \\hat{Y}_t|}{\\frac{1}{n-m} \\sum_{t=m+1}^n |Y_t - \\hat{Y}_{t-m}| }$$\n",
    "\n",
    "* symmetric Mean Absolute Percentage Error\n",
    "\n",
    "$$\\text{sMAPE} = \\frac{1}{h} \\sum_{t=1}^{h} \\frac{2|Y_t - \\hat{Y}_t|}{|Y_t| + |\\hat{Y}_t|}$$\n",
    "\n",
    "Where $Y_t$ is the post sample value of the time series at point $t$, $\\hat{Y}_t$ is the estimated forecast, $h$ is the forecasting horizon and $m$ is the frequency of the data (i.e., 12 for monthly series). Details can be found [here](https://www.m4.unic.ac.cy/wp-content/uploads/2018/03/M4-Competitors-Guide.pdf)\n",
    "\n",
    "### Import useful packages"
   ]
  },
  {
   "cell_type": "code",
   "execution_count": 1,
   "metadata": {},
   "outputs": [],
   "source": [
    "import pandas as pd\n",
    "import matplotlib.pyplot as plt\n",
    "import seaborn as sns\n",
    "import numpy as np\n",
    "import warnings \n",
    "from statsmodels.tsa.statespace.sarimax import SARIMAX\n",
    "from statsmodels.tsa.arima_model import ARIMA"
   ]
  },
  {
   "cell_type": "markdown",
   "metadata": {},
   "source": [
    "### Data\n",
    "\n",
    "After download and unzip data, put the folder 'M4DataSet' in working directory"
   ]
  },
  {
   "cell_type": "code",
   "execution_count": 2,
   "metadata": {},
   "outputs": [
    {
     "data": {
      "text/html": [
       "<div>\n",
       "<style scoped>\n",
       "    .dataframe tbody tr th:only-of-type {\n",
       "        vertical-align: middle;\n",
       "    }\n",
       "\n",
       "    .dataframe tbody tr th {\n",
       "        vertical-align: top;\n",
       "    }\n",
       "\n",
       "    .dataframe thead th {\n",
       "        text-align: right;\n",
       "    }\n",
       "</style>\n",
       "<table border=\"1\" class=\"dataframe\">\n",
       "  <thead>\n",
       "    <tr style=\"text-align: right;\">\n",
       "      <th>V1</th>\n",
       "      <th>H1</th>\n",
       "      <th>H2</th>\n",
       "      <th>H3</th>\n",
       "      <th>H4</th>\n",
       "      <th>H5</th>\n",
       "      <th>H6</th>\n",
       "      <th>H7</th>\n",
       "      <th>H8</th>\n",
       "      <th>H9</th>\n",
       "      <th>H10</th>\n",
       "    </tr>\n",
       "  </thead>\n",
       "  <tbody>\n",
       "    <tr>\n",
       "      <th>V2</th>\n",
       "      <td>605.0</td>\n",
       "      <td>3124.0</td>\n",
       "      <td>1828.0</td>\n",
       "      <td>6454.0</td>\n",
       "      <td>4263.0</td>\n",
       "      <td>5780.0</td>\n",
       "      <td>52817.0</td>\n",
       "      <td>32479.0</td>\n",
       "      <td>39455.0</td>\n",
       "      <td>513.0</td>\n",
       "    </tr>\n",
       "    <tr>\n",
       "      <th>V3</th>\n",
       "      <td>586.0</td>\n",
       "      <td>2990.0</td>\n",
       "      <td>1806.0</td>\n",
       "      <td>6324.0</td>\n",
       "      <td>4297.0</td>\n",
       "      <td>5497.0</td>\n",
       "      <td>51773.0</td>\n",
       "      <td>31018.0</td>\n",
       "      <td>38279.0</td>\n",
       "      <td>512.0</td>\n",
       "    </tr>\n",
       "    <tr>\n",
       "      <th>V4</th>\n",
       "      <td>586.0</td>\n",
       "      <td>2862.0</td>\n",
       "      <td>1897.0</td>\n",
       "      <td>6075.0</td>\n",
       "      <td>4236.0</td>\n",
       "      <td>5306.0</td>\n",
       "      <td>50907.0</td>\n",
       "      <td>30033.0</td>\n",
       "      <td>36944.0</td>\n",
       "      <td>506.0</td>\n",
       "    </tr>\n",
       "    <tr>\n",
       "      <th>V5</th>\n",
       "      <td>559.0</td>\n",
       "      <td>2809.0</td>\n",
       "      <td>1750.0</td>\n",
       "      <td>5949.0</td>\n",
       "      <td>4080.0</td>\n",
       "      <td>5178.0</td>\n",
       "      <td>50224.0</td>\n",
       "      <td>27716.0</td>\n",
       "      <td>35984.0</td>\n",
       "      <td>500.0</td>\n",
       "    </tr>\n",
       "    <tr>\n",
       "      <th>V6</th>\n",
       "      <td>511.0</td>\n",
       "      <td>2544.0</td>\n",
       "      <td>1679.0</td>\n",
       "      <td>5858.0</td>\n",
       "      <td>3883.0</td>\n",
       "      <td>5235.0</td>\n",
       "      <td>49496.0</td>\n",
       "      <td>25067.0</td>\n",
       "      <td>33721.0</td>\n",
       "      <td>490.0</td>\n",
       "    </tr>\n",
       "    <tr>\n",
       "      <th>V7</th>\n",
       "      <td>443.0</td>\n",
       "      <td>2201.0</td>\n",
       "      <td>1620.0</td>\n",
       "      <td>5579.0</td>\n",
       "      <td>3672.0</td>\n",
       "      <td>5382.0</td>\n",
       "      <td>48816.0</td>\n",
       "      <td>22946.0</td>\n",
       "      <td>31113.0</td>\n",
       "      <td>484.0</td>\n",
       "    </tr>\n",
       "    <tr>\n",
       "      <th>V8</th>\n",
       "      <td>422.0</td>\n",
       "      <td>1996.0</td>\n",
       "      <td>1463.0</td>\n",
       "      <td>5163.0</td>\n",
       "      <td>3248.0</td>\n",
       "      <td>5723.0</td>\n",
       "      <td>46514.0</td>\n",
       "      <td>21396.0</td>\n",
       "      <td>28985.0</td>\n",
       "      <td>467.0</td>\n",
       "    </tr>\n",
       "    <tr>\n",
       "      <th>V9</th>\n",
       "      <td>395.0</td>\n",
       "      <td>1861.0</td>\n",
       "      <td>1342.0</td>\n",
       "      <td>4790.0</td>\n",
       "      <td>2841.0</td>\n",
       "      <td>6115.0</td>\n",
       "      <td>42432.0</td>\n",
       "      <td>20628.0</td>\n",
       "      <td>27498.0</td>\n",
       "      <td>446.0</td>\n",
       "    </tr>\n",
       "    <tr>\n",
       "      <th>V10</th>\n",
       "      <td>382.0</td>\n",
       "      <td>1735.0</td>\n",
       "      <td>1192.0</td>\n",
       "      <td>4478.0</td>\n",
       "      <td>2513.0</td>\n",
       "      <td>6435.0</td>\n",
       "      <td>38210.0</td>\n",
       "      <td>20103.0</td>\n",
       "      <td>26384.0</td>\n",
       "      <td>434.0</td>\n",
       "    </tr>\n",
       "    <tr>\n",
       "      <th>V11</th>\n",
       "      <td>370.0</td>\n",
       "      <td>1713.0</td>\n",
       "      <td>1108.0</td>\n",
       "      <td>4227.0</td>\n",
       "      <td>2275.0</td>\n",
       "      <td>6718.0</td>\n",
       "      <td>35171.0</td>\n",
       "      <td>19932.0</td>\n",
       "      <td>25663.0</td>\n",
       "      <td>422.0</td>\n",
       "    </tr>\n",
       "  </tbody>\n",
       "</table>\n",
       "</div>"
      ],
      "text/plain": [
       "V1      H1      H2      H3      H4      H5      H6       H7       H8       H9  \\\n",
       "V2   605.0  3124.0  1828.0  6454.0  4263.0  5780.0  52817.0  32479.0  39455.0   \n",
       "V3   586.0  2990.0  1806.0  6324.0  4297.0  5497.0  51773.0  31018.0  38279.0   \n",
       "V4   586.0  2862.0  1897.0  6075.0  4236.0  5306.0  50907.0  30033.0  36944.0   \n",
       "V5   559.0  2809.0  1750.0  5949.0  4080.0  5178.0  50224.0  27716.0  35984.0   \n",
       "V6   511.0  2544.0  1679.0  5858.0  3883.0  5235.0  49496.0  25067.0  33721.0   \n",
       "V7   443.0  2201.0  1620.0  5579.0  3672.0  5382.0  48816.0  22946.0  31113.0   \n",
       "V8   422.0  1996.0  1463.0  5163.0  3248.0  5723.0  46514.0  21396.0  28985.0   \n",
       "V9   395.0  1861.0  1342.0  4790.0  2841.0  6115.0  42432.0  20628.0  27498.0   \n",
       "V10  382.0  1735.0  1192.0  4478.0  2513.0  6435.0  38210.0  20103.0  26384.0   \n",
       "V11  370.0  1713.0  1108.0  4227.0  2275.0  6718.0  35171.0  19932.0  25663.0   \n",
       "\n",
       "V1     H10  \n",
       "V2   513.0  \n",
       "V3   512.0  \n",
       "V4   506.0  \n",
       "V5   500.0  \n",
       "V6   490.0  \n",
       "V7   484.0  \n",
       "V8   467.0  \n",
       "V9   446.0  \n",
       "V10  434.0  \n",
       "V11  422.0  "
      ]
     },
     "execution_count": 2,
     "metadata": {},
     "output_type": "execute_result"
    }
   ],
   "source": [
    "hourly_data = pd.read_csv(\"./M4DataSet/Hourly-train.csv\",header = 0,index_col=0).T\n",
    "daily_data = pd.read_csv(\"./M4DataSet/Daily-train.csv\",header = 0,index_col=0).T\n",
    "weekly_data = pd.read_csv(\"./M4DataSet/Weekly-train.csv\",header = 0,index_col=0).T\n",
    "monthly_data = pd.read_csv(\"./M4DataSet/Monthly-train.csv\",header = 0,index_col=0).T\n",
    "quarterly_data = pd.read_csv(\"./M4DataSet/Quarterly-train.csv\",header = 0,index_col=0).T\n",
    "yearly_data = pd.read_csv(\"./M4DataSet/Yearly-train.csv\",header = 0,index_col=0).T\n",
    "hourly_data.iloc[0:10,0:10]"
   ]
  },
  {
   "cell_type": "markdown",
   "metadata": {},
   "source": [
    "For demonstration purpose, only hourly data is showed. One can use the following code to see visualization of individual time series"
   ]
  },
  {
   "cell_type": "code",
   "execution_count": 3,
   "metadata": {},
   "outputs": [
    {
     "data": {
      "image/png": "[encoded data removed]",
      "text/plain": [
       "<Figure size 1080x360 with 1 Axes>"
      ]
     },
     "metadata": {},
     "output_type": "display_data"
    }
   ],
   "source": [
    "sns.set()\n",
    "data = hourly_data.iloc[1:50,0].dropna()\n",
    "plt.figure(figsize=(15,5))\n",
    "plt.plot(data)\n",
    "plt.xticks(np.arange(0, 50, 5))\n",
    "plt.title(\"sample time series\")\n",
    "plt.show()"
   ]
  },
  {
   "cell_type": "markdown",
   "metadata": {},
   "source": [
    "### Evaluate model by MASE, sMAPE and MAE"
   ]
  },
  {
   "cell_type": "code",
   "execution_count": 4,
   "metadata": {},
   "outputs": [],
   "source": [
    "def sMAPE(ser_true, ser_est, h):\n",
    "    return 1/h * np.sum(2 * abs(ser_true - ser_est)/(abs(ser_true) + abs(ser_est)))\n",
    "\n",
    "def MASE(ser_true, ser_est, freq, h, data_train):\n",
    "    n = data_train.shape[1]\n",
    "    if h >= n:\n",
    "        return 0\n",
    "    num = np.sum(abs(ser_true - ser_est))\n",
    "    den = 1 / (n - freq) * np.sum(abs(data_train[0][freq:n] - data_train[0][0:n - freq]))\n",
    "    if den == 0:\n",
    "        return 0\n",
    "    else:\n",
    "        return 1 / h * num / den\n",
    "    \n",
    "def MAE(ser_true, ser_est):\n",
    "    return np.mean(abs(ser_true-ser_est))\n",
    "\n",
    "def Eva1(data, prediction, freq, h=6):\n",
    "    '''\n",
    "    data: last h data in each time series is testing, remaining part is training\n",
    "    data_type: pandas dataframe\n",
    "    prediction: function that makes prediction, take values data_train,h,freq\n",
    "    prediction_type: function\n",
    "    freq: frequency of the data (i.e., 12 for monthly series)\n",
    "    freq_type: \n",
    "    h: forecasting horizon\n",
    "    '''\n",
    "    \n",
    "    sMAPE_final = 0\n",
    "    MASE_final = 0\n",
    "    MAE_final = 0\n",
    "    MAE_curve_final = np.zeros((1,h))\n",
    "    p = data.shape[1]\n",
    "    \n",
    "    for i in range(p):\n",
    "        temp_data = data.iloc[:,i]\n",
    "        n = sum(temp_data.notnull())\n",
    "        data_train = np.array(temp_data.iloc[0:n-h]).reshape((1,n-h))\n",
    "        data_test = np.array(temp_data.iloc[n-h:n]).reshape((1,h))\n",
    "        estimation = prediction(data_train,h,freq)\n",
    "        #estimation = np.ones((1,h))*data_train[0,-1]\n",
    "        sMAPE_val = sMAPE(data_test, estimation, h)\n",
    "        MASE_val = MASE(data_test, estimation, freq, h, data_train)\n",
    "        MAE_val = MAE(data_test, estimation)\n",
    "        MAE_curve_val = abs(data_test - estimation)    \n",
    "            \n",
    "        sMAPE_final += sMAPE_val\n",
    "        MASE_final += MASE_val\n",
    "        MAE_final += MAE_val\n",
    "        MAE_curve_final += MAE_curve_val\n",
    "    \n",
    "    return {'sMAPE':sMAPE_final/p, 'MASE':MASE_final/p, 'MAE':MAE_final/p, 'MAE_curve':MAE_curve_final/p}\n",
    "\n",
    "def Eval_all_data(datasets, prediction, freq_seq, h):\n",
    "    sMAPE_all = 0\n",
    "    MASE_all = 0\n",
    "    MAE_all = 0\n",
    "    MAE_curve_all = np.zeros((1,h))\n",
    "    \n",
    "    sets = len(datasets)\n",
    "    for i in range(sets):\n",
    "        output = Eva1(datasets[i], prediction, freq_seq[i], h)\n",
    "        sMAPE_all += output['sMAPE']\n",
    "        MASE_all += output['MASE']\n",
    "        MAE_all += output['MAE']\n",
    "        MAE_curve_all = MAE_curve_all + output['MAE_curve']\n",
    "    return {'sMAPE':sMAPE_all/sets, 'MASE':MASE_all/sets, 'MAE':MAE_all/sets, 'MAE_curve':MAE_curve_all/sets}\n",
    "\n",
    "# print(Eval_all_data(datasets = [hourly_data,daily_data,weekly_data,monthly_data,quarterly_data,yearly_data],\n",
    "#                     prediction = 2, freq_seq = [24,7,4,12,4,1], h=10))"
   ]
  },
  {
   "cell_type": "markdown",
   "metadata": {},
   "source": [
    "Now let's try some different models by first define some environmental parameters:\n",
    "* datasets is list of data sets used in prediction\n",
    "* freq_seq is list of frequencies for each data set\n",
    "* h is forecasting horizon"
   ]
  },
  {
   "cell_type": "code",
   "execution_count": 5,
   "metadata": {},
   "outputs": [],
   "source": [
    "datasets = [hourly_data,daily_data,weekly_data,monthly_data,quarterly_data,yearly_data]\n",
    "freq_seq = [24,7,4,12,4,1]\n",
    "h=6"
   ]
  },
  {
   "cell_type": "markdown",
   "metadata": {},
   "source": [
    "### Baseline model\n",
    "\n",
    "Predictions are fixed at the last trining observation. Also know as [Naïve 1](https://www.m4.unic.ac.cy/wp-content/uploads/2018/03/M4-Competitors-Guide.pdf)"
   ]
  },
  {
   "cell_type": "code",
   "execution_count": 6,
   "metadata": {},
   "outputs": [],
   "source": [
    "def naive1(data_train,h,freq):\n",
    "    return np.ones((1,h))*data_train[0,-1]\n",
    "\n",
    "result = Eval_all_data(datasets = datasets, prediction = naive1, freq_seq = freq_seq, h=h)"
   ]
  },
  {
   "cell_type": "markdown",
   "metadata": {},
   "source": [
    "The accuracy measures for baseline model is presented below"
   ]
  },
  {
   "cell_type": "code",
   "execution_count": 7,
   "metadata": {},
   "outputs": [
    {
     "name": "stdout",
     "output_type": "stream",
     "text": [
      "sMAPE =  0.14375191186495398\n",
      "MASE =  3.5628978696315663\n",
      "MAE =  507.82714480846863\n"
     ]
    }
   ],
   "source": [
    "n1_sMAPE = result['sMAPE']; print('sMAPE = ', n1_sMAPE)\n",
    "n1_MASE = result['MASE']; print('MASE = ', n1_MASE)\n",
    "n1_MAE = result['MAE']; print('MAE = ', n1_MAE)"
   ]
  },
  {
   "cell_type": "markdown",
   "metadata": {},
   "source": [
    "The MAE curve for baseline model is given as the following"
   ]
  },
  {
   "cell_type": "code",
   "execution_count": 8,
   "metadata": {},
   "outputs": [
    {
     "data": {
      "image/png": "[encoded data removed]",
      "text/plain": [
       "<Figure size 1080x360 with 1 Axes>"
      ]
     },
     "metadata": {},
     "output_type": "display_data"
    }
   ],
   "source": [
    "data = result['MAE_curve'][0]\n",
    "plt.figure(figsize=(15,5))\n",
    "plt.plot(data)\n",
    "plt.title(\"MAE curve for Naive 1\")\n",
    "plt.show()"
   ]
  },
  {
   "cell_type": "markdown",
   "metadata": {},
   "source": [
    "For a randomly selected time series, the true value vs prediction is showed below"
   ]
  },
  {
   "cell_type": "code",
   "execution_count": 9,
   "metadata": {},
   "outputs": [
    {
     "data": {
      "image/png": "[encoded data removed]",
      "text/plain": [
       "<Figure size 1080x360 with 1 Axes>"
      ]
     },
     "metadata": {},
     "output_type": "display_data"
    }
   ],
   "source": [
    "temp_data = daily_data.iloc[:,0]\n",
    "n = sum(temp_data.notnull())\n",
    "temp_true = np.array(temp_data.iloc[n-h:n])\n",
    "temp_prediction = np.ones((h))*temp_data.iloc[n-h-1]\n",
    "\n",
    "plt.figure(figsize=(15,5))\n",
    "plt.plot(temp_true,'o')\n",
    "plt.plot(temp_prediction, 'red')\n",
    "plt.legend(('True value', 'prediction'), loc='upper left')\n",
    "plt.title(\"MAE curve for Naive 1\")\n",
    "plt.show()"
   ]
  },
  {
   "cell_type": "markdown",
   "metadata": {},
   "source": [
    "### Baseline Seasonal model\n",
    "\n",
    "Forecasts are equal to the last known observation of the same period. Equivalent to [Seasonal Naïve](https://www.m4.unic.ac.cy/wp-content/uploads/2018/03/M4-Competitors-Guide.pdf)"
   ]
  },
  {
   "cell_type": "code",
   "execution_count": 10,
   "metadata": {},
   "outputs": [],
   "source": [
    "def baseline_seasonal(data_train,h,freq):\n",
    "    output = data_train[0,-freq:-freq+h]\n",
    "    if len(output) < h:\n",
    "        return np.ones((1,h))*data_train[0,-1]\n",
    "    else:\n",
    "        return output\n",
    "\n",
    "result = Eval_all_data(datasets = datasets, prediction = baseline_seasonal, freq_seq = freq_seq, h=h)"
   ]
  },
  {
   "cell_type": "markdown",
   "metadata": {},
   "source": [
    "The accuracy measures for baseline seasonal model is presented below"
   ]
  },
  {
   "cell_type": "code",
   "execution_count": 11,
   "metadata": {},
   "outputs": [
    {
     "name": "stdout",
     "output_type": "stream",
     "text": [
      "sMAPE =  0.11497247540243712\n",
      "MASE =  1.728976056731175\n",
      "MAE =  467.7452930477663\n"
     ]
    }
   ],
   "source": [
    "bs_sMAPE = result['sMAPE']; print('sMAPE = ', bs_sMAPE)\n",
    "bs_MASE = result['MASE']; print('MASE = ', bs_MASE)\n",
    "bs_MAE = result['MAE']; print('MAE = ', bs_MAE)"
   ]
  },
  {
   "cell_type": "markdown",
   "metadata": {},
   "source": [
    "The MAE curve for baseline model is given as the following"
   ]
  },
  {
   "cell_type": "code",
   "execution_count": 12,
   "metadata": {},
   "outputs": [
    {
     "data": {
      "image/png": "[encoded data removed]",
      "text/plain": [
       "<Figure size 1080x360 with 1 Axes>"
      ]
     },
     "metadata": {},
     "output_type": "display_data"
    }
   ],
   "source": [
    "data = result['MAE_curve'][0]\n",
    "plt.figure(figsize=(15,5))\n",
    "plt.plot(data)\n",
    "plt.title(\"MAE curve for Baseline Seasonal model\")\n",
    "plt.show()"
   ]
  },
  {
   "cell_type": "markdown",
   "metadata": {},
   "source": [
    "For a randomly selected time series, the true value vs prediction is showed below"
   ]
  },
  {
   "cell_type": "code",
   "execution_count": 13,
   "metadata": {},
   "outputs": [
    {
     "data": {
      "image/png": "[encoded data removed]",
      "text/plain": [
       "<Figure size 1080x360 with 1 Axes>"
      ]
     },
     "metadata": {},
     "output_type": "display_data"
    }
   ],
   "source": [
    "temp_data = daily_data.iloc[:,0]\n",
    "n = sum(temp_data.notnull())\n",
    "temp_true = np.array(temp_data.iloc[n-h:n])\n",
    "temp_train = np.array(temp_data.iloc[0:n-h]).reshape((1,n-h))\n",
    "temp_prediction = baseline_seasonal(temp_train,h,7)\n",
    "\n",
    "plt.figure(figsize=(15,5))\n",
    "plt.plot(temp_true,'o')\n",
    "plt.plot(temp_prediction, 'red')\n",
    "plt.legend(('True value', 'prediction'), loc='upper left')\n",
    "plt.title(\"MAE curve for Naive 1\")\n",
    "plt.show()"
   ]
  },
  {
   "cell_type": "code",
   "execution_count": 14,
   "metadata": {},
   "outputs": [],
   "source": [
    "# def arima(data_train,h,freq):\n",
    "#     n = data_train.shape[1]\n",
    "#     mod = ARIMA(data_train[0], order=(1,0,1))\n",
    "#     results = mod.fit()\n",
    "#     output = results.predict(start=n+1, end=n+h-1)\n",
    "    \n",
    "# #     with warnings.catch_warnings():\n",
    "# #         warnings.simplefilter(\"ignore\")\n",
    "# #         mod = SARIMAX(data_train[0], trend='n', order=(1,0,0), \n",
    "# #                   seasonal_order=(1,1,0,freq), enforce_stationarity=False)\n",
    "# #         results = mod.fit()\n",
    "# #         output = results.predict(start=n+1, end=n+h)\n",
    "#     return output\n",
    "# result = Eval_all_data(datasets = datasets, prediction = arima, freq_seq = freq_seq, h=h)"
   ]
  },
  {
   "cell_type": "markdown",
   "metadata": {},
   "source": [
    "## Some nonfree resourses\n",
    "\n",
    "### [Autobox](http://autobox.com/cms/index.php/home)"
   ]
  },
  {
   "cell_type": "code",
   "execution_count": null,
   "metadata": {},
   "outputs": [],
   "source": []
  }
 ],
 "metadata": {
  "kernelspec": {
   "display_name": "Python 3",
   "language": "python",
   "name": "python3"
  },
  "language_info": {
   "codemirror_mode": {
    "name": "ipython",
    "version": 3
   },
   "file_extension": ".py",
   "mimetype": "text/x-python",
   "name": "python",
   "nbconvert_exporter": "python",
   "pygments_lexer": "ipython3",
   "version": "3.6.5"
  }
 },
 "nbformat": 4,
 "nbformat_minor": 2
}
